{
 "cells": [
  {
   "cell_type": "markdown",
   "metadata": {},
   "source": [
    "## Serial"
   ]
  },
  {
   "cell_type": "code",
   "execution_count": 9,
   "metadata": {},
   "outputs": [
    {
     "name": "stdout",
     "output_type": "stream",
     "text": [
      "http://www.foxnews.com/ page is 728206 bytes\n",
      "http://www.cnn.com/ page is 3021208 bytes\n",
      "http://europe.wsj.com/ page is 549532 bytes\n",
      "http://www.bbc.co.uk/ page is 583210 bytes\n",
      "http://nonexistent-subdomain.python.org/ generated an exception: HTTPConnectionPool(host='nonexistent-subdomain.python.org', port=80): Max retries exceeded with url: / (Caused by NameResolutionError(\"<urllib3.connection.HTTPConnection object at 0x0000029CFBE6FB50>: Failed to resolve 'nonexistent-subdomain.python.org' ([Errno 11001] getaddrinfo failed)\"))\n"
     ]
    }
   ],
   "source": [
    "import requests\n",
    "\n",
    "URLS = [\n",
    "    'http://www.foxnews.com/',\n",
    "    'http://www.cnn.com/',\n",
    "    'http://europe.wsj.com/',\n",
    "    'http://www.bbc.co.uk/',\n",
    "    'http://nonexistent-subdomain.python.org/'\n",
    "]\n",
    "\n",
    "def load_url(url):\n",
    "    try:\n",
    "        response = requests.get(url, timeout=60)\n",
    "        print(f'{url} page is {len(response.content)} bytes')\n",
    "    except Exception as exc:\n",
    "        print(f'{url} generated an exception: {exc}')\n",
    "\n",
    "def main():\n",
    "    for url in URLS:\n",
    "        load_url(url)\n",
    "\n",
    "if __name__ == \"__main__\":\n",
    "    main()\n"
   ]
  },
  {
   "cell_type": "markdown",
   "metadata": {},
   "source": [
    "## Parallel"
   ]
  },
  {
   "cell_type": "code",
   "execution_count": 10,
   "metadata": {},
   "outputs": [
    {
     "name": "stdout",
     "output_type": "stream",
     "text": [
      "'http://nonexistent-subdomain.python.org/' generated an exception: <urlopen error [Errno 11001] getaddrinfo failed>\n",
      "'http://europe.wsj.com/' generated an exception: HTTP Error 403: Forbidden\n",
      "'http://www.bbc.co.uk/' page is 583210 bytes\n",
      "'http://www.foxnews.com/' page is 728206 bytes\n",
      "'http://www.cnn.com/' page is 3021208 bytes\n"
     ]
    }
   ],
   "source": [
    "import concurrent.futures\n",
    "import urllib.request\n",
    "\n",
    "URLS = ['http://www.foxnews.com/',\n",
    "        'http://www.cnn.com/',\n",
    "        'http://europe.wsj.com/',\n",
    "        'http://www.bbc.co.uk/',\n",
    "        'http://nonexistent-subdomain.python.org/']\n",
    "\n",
    "# Retrieve a single page and report the URL and contents\n",
    "def load_url(url, timeout):\n",
    "    with urllib.request.urlopen(url, timeout=timeout) as conn:\n",
    "        return conn.read()\n",
    "\n",
    "# We can use a with statement to ensure threads are cleaned up promptly\n",
    "with concurrent.futures.ThreadPoolExecutor(max_workers=5) as executor:\n",
    "    # Start the load operations and mark each future with its URL\n",
    "    future_to_url = {executor.submit(load_url, url, 60): url for url in URLS}\n",
    "    for future in concurrent.futures.as_completed(future_to_url):\n",
    "        url = future_to_url[future]\n",
    "        try:\n",
    "            data = future.result()\n",
    "        except Exception as exc:\n",
    "            print('%r generated an exception: %s' % (url, exc))\n",
    "        else:\n",
    "            print('%r page is %d bytes' % (url, len(data)))"
   ]
  },
  {
   "cell_type": "markdown",
   "metadata": {},
   "source": [
    "## Async"
   ]
  },
  {
   "cell_type": "code",
   "execution_count": null,
   "metadata": {},
   "outputs": [
    {
     "name": "stdout",
     "output_type": "stream",
     "text": [
      "http://nonexistent-subdomain.python.org/ generated an exception: Cannot connect to host nonexistent-subdomain.python.org:80 ssl:default [getaddrinfo failed]\n",
      "http://www.bbc.co.uk/ page is 583210 bytes\n",
      "http://www.foxnews.com/ page is 728206 bytes\n",
      "http://www.cnn.com/ page is 3021208 bytes\n",
      "http://europe.wsj.com/ page is 549532 bytes\n"
     ]
    }
   ],
   "source": [
    "import asyncio\n",
    "import aiohttp\n",
    "\n",
    "URLS = [\n",
    "    'http://www.foxnews.com/',\n",
    "    'http://www.cnn.com/',\n",
    "    'http://europe.wsj.com/',\n",
    "    'http://www.bbc.co.uk/',\n",
    "    'http://nonexistent-subdomain.python.org/'\n",
    "]\n",
    "\n",
    "async def load_url(session, url):\n",
    "    try:\n",
    "        async with session.get(url, timeout=60) as response:\n",
    "            data = await response.read()\n",
    "            print(f'{url} page is {len(data)} bytes')\n",
    "    except Exception as exc:\n",
    "        print(f'{url} generated an exception: {exc}')\n",
    "\n",
    "async def main():\n",
    "    async with aiohttp.ClientSession() as session:\n",
    "        tasks = [load_url(session, url) for url in URLS]\n",
    "        await asyncio.gather(*tasks)\n",
    "\n",
    "if __name__ == \"__main__\":\n",
    "    await main()\n"
   ]
  }
 ],
 "metadata": {
  "kernelspec": {
   "display_name": "Python 3",
   "language": "python",
   "name": "python3"
  },
  "language_info": {
   "codemirror_mode": {
    "name": "ipython",
    "version": 3
   },
   "file_extension": ".py",
   "mimetype": "text/x-python",
   "name": "python",
   "nbconvert_exporter": "python",
   "pygments_lexer": "ipython3",
   "version": "3.10.11"
  }
 },
 "nbformat": 4,
 "nbformat_minor": 2
}
